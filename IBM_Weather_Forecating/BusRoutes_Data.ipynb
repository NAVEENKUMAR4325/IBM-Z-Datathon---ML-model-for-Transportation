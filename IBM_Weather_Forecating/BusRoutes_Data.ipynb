{
 "cells": [
  {
   "cell_type": "code",
   "execution_count": 42,
   "metadata": {},
   "outputs": [],
   "source": [
    "import pandas as pd\n",
    "import numpy as np\n",
    "import re"
   ]
  },
  {
   "cell_type": "code",
   "execution_count": 28,
   "metadata": {},
   "outputs": [],
   "source": [
    "df = pd.read_csv('mtc_bus_list_with_route.csv')"
   ]
  },
  {
   "cell_type": "code",
   "execution_count": 29,
   "metadata": {},
   "outputs": [],
   "source": [
    "df = df.dropna(how='all')"
   ]
  },
  {
   "cell_type": "code",
   "execution_count": 30,
   "metadata": {},
   "outputs": [],
   "source": [
    "df.columns = df.columns.str.strip().str.lower().str.replace(' ', '_')\n"
   ]
  },
  {
   "cell_type": "code",
   "execution_count": 31,
   "metadata": {},
   "outputs": [],
   "source": [
    "df = df.applymap(lambda x: x.strip() if isinstance(x, str) else x)\n",
    "df['bus_number'] = df['bus_number'].apply(lambda x: re.sub(r'[^\\w\\s]', '', str(x)))"
   ]
  },
  {
   "cell_type": "code",
   "execution_count": 32,
   "metadata": {},
   "outputs": [],
   "source": [
    "df['via'] = df['via'].fillna('')\n",
    "df['via_stops'] = df['via'].apply(lambda x: x.split(',') if x else [])\n",
    "df['num_stops'] = df['via_stops'].apply(len)"
   ]
  },
  {
   "cell_type": "code",
   "execution_count": 33,
   "metadata": {},
   "outputs": [],
   "source": [
    "route_types = ['high_frequency_route', 'night_service_route', 'low_frequency_route']\n",
    "for col in route_types:\n",
    "    df[col] = df[col].map({'x': 1, '': 0}).fillna(0).astype(int)"
   ]
  },
  {
   "cell_type": "code",
   "execution_count": 34,
   "metadata": {},
   "outputs": [],
   "source": [
    "def standardize_location(location):\n",
    "    if isinstance(location, str):\n",
    "        # Convert to lowercase and strip spaces\n",
    "        return location.strip().lower()\n",
    "    else:\n",
    "        return 'Unknown'"
   ]
  },
  {
   "cell_type": "code",
   "execution_count": 35,
   "metadata": {},
   "outputs": [
    {
     "name": "stdout",
     "output_type": "stream",
     "text": [
      "  starting_point   ending_point\n",
      "0  thiruvottiyur  thiruvanmiyur\n",
      "1  thiruvottiyur    poonamallee\n",
      "2       tollgate  saidapet west\n",
      "3  ekkaduthangal       broadway\n",
      "4       broadway        t.nagar\n"
     ]
    }
   ],
   "source": [
    "if 'starting_point' in df.columns and 'ending_point' in df.columns:\n",
    "\n",
    "    df['starting_point'] = df['starting_point'].fillna('Unknown')\n",
    "    df['ending_point'] = df['ending_point'].fillna('Unknown')\n",
    "    df['starting_point'] = df['starting_point'].apply(standardize_location)\n",
    "    df['ending_point'] = df['ending_point'].apply(standardize_location)\n",
    "    print(df[['starting_point', 'ending_point']].head())\n",
    "else:\n",
    "    print(\"Either 'starting_point' or 'ending_point' columns do not exist in the DataFrame.\")"
   ]
  },
  {
   "cell_type": "code",
   "execution_count": 36,
   "metadata": {},
   "outputs": [],
   "source": [
    "df = df.fillna('Unknown')"
   ]
  },
  {
   "cell_type": "code",
   "execution_count": 37,
   "metadata": {},
   "outputs": [],
   "source": [
    "df['route_id'] = df.index"
   ]
  },
  {
   "cell_type": "code",
   "execution_count": 38,
   "metadata": {},
   "outputs": [],
   "source": [
    "df['num_stops'] = df['num_stops'].astype(int)"
   ]
  },
  {
   "cell_type": "code",
   "execution_count": 43,
   "metadata": {},
   "outputs": [],
   "source": [
    "df['rainfall_index'] = np.random.randint(0, 101, size=len(df))"
   ]
  },
  {
   "cell_type": "code",
   "execution_count": 39,
   "metadata": {},
   "outputs": [],
   "source": [
    "column_order = ['route_id', 'bus_number', 'starting_point', 'ending_point', 'via', \n",
    "                'via_stops', 'num_stops', 'high_frequency_route', 'night_service_route', \n",
    "                'low_frequency_route']\n",
    "df = df[column_order]"
   ]
  },
  {
   "cell_type": "code",
   "execution_count": 44,
   "metadata": {},
   "outputs": [],
   "source": [
    "df.to_csv('bus_processed_output.csv', index=False)"
   ]
  },
  {
   "cell_type": "code",
   "execution_count": 40,
   "metadata": {},
   "outputs": [
    {
     "name": "stdout",
     "output_type": "stream",
     "text": [
      "   route_id bus_number starting_point   ending_point  \\\n",
      "0         0          1  thiruvottiyur  thiruvanmiyur   \n",
      "1         1        101  thiruvottiyur    poonamallee   \n",
      "2         2        10A       tollgate  saidapet west   \n",
      "3         3        10E  ekkaduthangal       broadway   \n",
      "4         4         11       broadway        t.nagar   \n",
      "\n",
      "                                                 via  \\\n",
      "0  Adyar, Mylapore, Royapettah, Parry's Corner, K...   \n",
      "1  Tollgate, Central, KMC, Mathuravoyal, Karayanc...   \n",
      "2  Kal mandapam, Parrys, Central R.S, Egmore R.S,...   \n",
      "3  Central R.S, Egmore R.S, Maternity Hospital, D...   \n",
      "4  Panagal park, Vani mahal, Thousand Lights, TVS...   \n",
      "\n",
      "                                           via_stops  num_stops  \\\n",
      "0  [Adyar,  Mylapore,  Royapettah,  Parry's Corne...          8   \n",
      "1  [Tollgate,  Central,  KMC,  Mathuravoyal,  Kar...          5   \n",
      "2  [Kal mandapam,  Parrys,  Central R.S,  Egmore ...         12   \n",
      "3  [Central R.S,  Egmore R.S,  Maternity Hospital...         12   \n",
      "4  [Panagal park,  Vani mahal,  Thousand Lights, ...          5   \n",
      "\n",
      "   high_frequency_route  night_service_route  low_frequency_route  \n",
      "0                     0                    0                    0  \n",
      "1                     1                    1                    0  \n",
      "2                     0                    0                    1  \n",
      "3                     0                    0                    1  \n",
      "4                     1                    0                    0  \n",
      "<class 'pandas.core.frame.DataFrame'>\n",
      "Int64Index: 727 entries, 0 to 727\n",
      "Data columns (total 10 columns):\n",
      " #   Column                Non-Null Count  Dtype \n",
      "---  ------                --------------  ----- \n",
      " 0   route_id              727 non-null    int64 \n",
      " 1   bus_number            727 non-null    object\n",
      " 2   starting_point        727 non-null    object\n",
      " 3   ending_point          727 non-null    object\n",
      " 4   via                   727 non-null    object\n",
      " 5   via_stops             727 non-null    object\n",
      " 6   num_stops             727 non-null    int32 \n",
      " 7   high_frequency_route  727 non-null    int32 \n",
      " 8   night_service_route   727 non-null    int32 \n",
      " 9   low_frequency_route   727 non-null    int32 \n",
      "dtypes: int32(4), int64(1), object(5)\n",
      "memory usage: 51.1+ KB\n",
      "None\n"
     ]
    }
   ],
   "source": [
    "print(df.head())\n",
    "print(df.info())"
   ]
  }
 ],
 "metadata": {
  "kernelspec": {
   "display_name": "Python 3",
   "language": "python",
   "name": "python3"
  },
  "language_info": {
   "codemirror_mode": {
    "name": "ipython",
    "version": 3
   },
   "file_extension": ".py",
   "mimetype": "text/x-python",
   "name": "python",
   "nbconvert_exporter": "python",
   "pygments_lexer": "ipython3",
   "version": "3.11.1"
  }
 },
 "nbformat": 4,
 "nbformat_minor": 2
}
