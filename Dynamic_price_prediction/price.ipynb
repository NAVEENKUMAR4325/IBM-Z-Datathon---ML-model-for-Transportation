{
  "cells": [
    {
      "cell_type": "code",
      "execution_count": 8,
      "metadata": {},
      "outputs": [],
      "source": [
        "import numpy as np\n",
        "import pandas as pd\n",
        "from sklearn.model_selection import train_test_split\n",
        "from sklearn.linear_model import LinearRegression\n",
        "from sklearn.preprocessing import StandardScaler\n",
        "from sklearn.metrics import mean_squared_error\n",
        "import matplotlib.pyplot as plt\n"
      ]
    },
    {
      "cell_type": "code",
      "execution_count": 26,
      "metadata": {},
      "outputs": [
        {
          "name": "stdout",
          "output_type": "stream",
          "text": [
            "    kilometers  petrol_consumption  fares\n",
            "0            1                0.10      7\n",
            "1            2                0.20      9\n",
            "2            3                0.25     10\n",
            "3            4                0.30     12\n",
            "4            5                0.35     13\n",
            "5            6                0.40     15\n",
            "6            7                0.45     16\n",
            "7            8                0.50     18\n",
            "8            9                0.55     19\n",
            "9           10                0.60     21\n",
            "10          11                0.66     22\n",
            "11          12                0.70     22\n",
            "12          13                0.77     24\n",
            "13          14                0.80     24\n",
            "14          15                0.88     25\n",
            "15          16                0.90     25\n",
            "16          17                0.99     27\n",
            "17          18                1.00     27\n",
            "18          19                1.11     28\n",
            "19          20                2.00     28\n",
            "20          21                2.22     30\n",
            "21          22                3.00     30\n",
            "22          23                3.11     31\n",
            "23          24                4.00     31\n",
            "24          25                4.44     33\n",
            "25          26                5.00     33\n",
            "26          27                5.55     34\n",
            "27          28                6.00     34\n",
            "28          29                6.66     35\n",
            "29          30                7.00     35\n"
          ]
        }
      ],
      "source": [
        "data = {\n",
        "    'kilometers': [1, 2, 3, 4, 5, 6, 7, 8, 9, 10,11,12,13,14,15,16,17,18,19,20,21,22,23,24,25,26,27,28,29,30],\n",
        "    'petrol_consumption': [0.1, 0.2, 0.25, 0.3, 0.35, 0.4, 0.45, 0.5, 0.55, 0.6,0.66,0.7,0.77,0.8,0.88,0.9,0.99,1.0,1.11,2.0,2.22,3.0,3.11,4.0,4.44,5.0,5.55,6.0,6.66,7.0],\n",
        "    'fares': [7, 9, 10, 12, 13, 15, 16, 18, 19, 21,22,22,24,24,25,25,27,27,28,28,30,30,31,31,33,33,34,34,35,35] \n",
        "}\n",
        "df=pd.DataFrame(data)\n",
        "print(df)"
      ]
    },
    {
      "cell_type": "code",
      "execution_count": 27,
      "metadata": {},
      "outputs": [],
      "source": [
        "# Separate the features (kilometers, petrol consumption) and target (price)\n",
        "X = df[['kilometers', 'petrol_consumption']]  # Features\n",
        "y = df['fares']  # Target\n",
        "\n",
        "# Split the dataset into training and testing sets\n",
        "X_train, X_test, y_train, y_test = train_test_split(X, y, test_size=0.2, random_state=42)\n",
        "\n",
        "# Feature scaling (optional but recommended for regression)\n",
        "scaler = StandardScaler()\n",
        "X_train_scaled = scaler.fit_transform(X_train)\n",
        "X_test_scaled = scaler.transform(X_test)\n"
      ]
    },
    {
      "cell_type": "code",
      "execution_count": 28,
      "metadata": {},
      "outputs": [],
      "source": [
        "# Initialize the Linear Regression model\n",
        "model = LinearRegression()\n",
        "\n",
        "# Train the model using the scaled training data\n",
        "model.fit(X_train_scaled, y_train)\n",
        "\n",
        "# Predict on test data\n",
        "y_pred = model.predict(X_test_scaled)\n"
      ]
    },
    {
      "cell_type": "code",
      "execution_count": 30,
      "metadata": {},
      "outputs": [
        {
          "name": "stdout",
          "output_type": "stream",
          "text": [
            "Predicted Price for 5 kilometers and 0.66 liters petrol: ₹12.80\n"
          ]
        },
        {
          "name": "stderr",
          "output_type": "stream",
          "text": [
            "n:\\()()()()()()()()\\IBM-Z-Datathon---ML-model-for-Transportation\\myenv\\Lib\\site-packages\\sklearn\\base.py:493: UserWarning: X does not have valid feature names, but StandardScaler was fitted with feature names\n",
            "  warnings.warn(\n"
          ]
        }
      ],
      "source": [
        "# Example: Predict the price for 5 kilometers and 0.66 liters petrol consumption\n",
        "km_petrol = np.array([[5, 0.66]])\n",
        "km_petrol_scaled = scaler.transform(km_petrol)\n",
        "predicted_price = model.predict(km_petrol_scaled)\n",
        "\n",
        "print(f\"Predicted Price for 5 kilometers and 0.66 liters petrol: ₹{predicted_price[0]:.2f}\")\n"
      ]
    },
    {
      "cell_type": "code",
      "execution_count": 31,
      "metadata": {},
      "outputs": [
        {
          "name": "stdout",
          "output_type": "stream",
          "text": [
            "Root Mean Squared Error (RMSE): 1.20\n"
          ]
        },
        {
          "data": {
            "image/png": "[encoded data removed]",
            "text/plain": [
              "<Figure size 640x480 with 1 Axes>"
            ]
          },
          "metadata": {},
          "output_type": "display_data"
        }
      ],
      "source": [
        "# Evaluate the model using MSE\n",
        "mse = mean_squared_error(y_test, y_pred)\n",
        "rmse = np.sqrt(mse)\n",
        "\n",
        "print(f\"Root Mean Squared Error (RMSE): {rmse:.2f}\")\n",
        "\n",
        "# Visualizing the results\n",
        "plt.scatter(X_test['kilometers'], y_test, color='red', label='Actual Price')\n",
        "plt.scatter(X_test['kilometers'], y_pred, color='blue', label='Predicted Price')\n",
        "plt.title('Price Prediction based on Kilometers and Petrol Consumption')\n",
        "plt.xlabel('Kilometers')\n",
        "plt.ylabel('Price (₹)')\n",
        "plt.legend()\n",
        "plt.show()\n"
      ]
    },
    {
      "cell_type": "code",
      "execution_count": null,
      "metadata": {},
      "outputs": [],
      "source": []
    }
  ],
  "metadata": {
    "colab": {
      "provenance": []
    },
    "kernelspec": {
      "display_name": "myenv",
      "language": "python",
      "name": "python3"
    },
    "language_info": {
      "codemirror_mode": {
        "name": "ipython",
        "version": 3
      },
      "file_extension": ".py",
      "mimetype": "text/x-python",
      "name": "python",
      "nbconvert_exporter": "python",
      "pygments_lexer": "ipython3",
      "version": "3.12.7"
    }
  },
  "nbformat": 4,
  "nbformat_minor": 0
}
