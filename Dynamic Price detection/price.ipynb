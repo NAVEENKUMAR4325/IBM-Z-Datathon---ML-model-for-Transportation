{
 "cells": [
  {
   "cell_type": "code",
   "execution_count": null,
   "metadata": {
    "vscode": {
     "languageId": "plaintext"
    }
   },
   "outputs": [],
   "source": [
    "import pandas as pd\n",
    "import numpy as np\n",
    "from sklearn.model_selection import train_test_split\n",
    "from sklearn.preprocessing import StandardScaler\n",
    "from sklearn.ensemble import RandomForestRegressor\n",
    "from sklearn.metrics import mean_squared_error, r2_score\n",
    "\n",
    "# Load and preprocess data\n",
    "def load_and_preprocess_data(file_path):\n",
    "    data = pd.read_csv(file_path)\n"
   ]
  },
  {
   "cell_type": "code",
   "execution_count": null,
   "metadata": {
    "vscode": {
     "languageId": "plaintext"
    }
   },
   "outputs": [],
   "source": [
    "    \n",
    "    # Convert time-related features to appropriate datetime format\n",
    "    data['timestamp'] = pd.to_datetime(data['timestamp'])\n"
   ]
  },
  {
   "cell_type": "code",
   "execution_count": null,
   "metadata": {
    "vscode": {
     "languageId": "plaintext"
    }
   },
   "outputs": [],
   "source": [
    "    data['hour'] = data['timestamp'].dt.hour\n",
    "    data['day_of_week'] = data['timestamp'].dt.dayofweek\n",
    "    \n",
    "    # Preserve route_id before one-hot encoding for feature engineering\n",
    "    data['route_id_original'] = data['route_id']  # Create a copy of the original route_id column\n",
    "    \n",
    "    # One-hot encode categorical variables\n",
    "    data = pd.get_dummies(data, columns=['weather_condition'])  # Exclude route_id from one-hot encoding\n",
    "    \n",
    "    return data\n"
   ]
  },
  {
   "cell_type": "code",
   "execution_count": null,
   "metadata": {
    "vscode": {
     "languageId": "plaintext"
    }
   },
   "outputs": [],
   "source": [
    "\n",
    "# Feature engineering\n",
    "def engineer_features(data):\n",
    "    # Create lag features for demand using the original route_id column\n",
    "    data['demand_lag_1h'] = data.groupby('route_id_original')['demand'].shift(1)\n",
    "    data['demand_lag_1d'] = data.groupby('route_id_original')['demand'].shift(24)\n",
    "    \n",
    "    # Create rolling mean features using the original route_id column\n",
    "    data['demand_rolling_mean_6h'] = data.groupby('route_id_original')['demand'].rolling(window=6).mean().reset_index(0, drop=True)\n",
    "    \n",
    "    # Drop rows with NaN values created by lag and rolling features\n",
    "    data = data.dropna()\n",
    "    \n",
    "    # Drop the original route_id column if not needed further\n",
    "    # data = data.drop('route_id_original', axis=1)\n",
    "    \n",
    "    return data\n",
    "\n",
    "\n",
    "\n",
    "# Split features and target variable\n",
    "def split_data(data):\n",
    "    # Drop 'route_id', 'fare', 'timestamp', and any route_id related columns (e.g., 'route_id_original')\n",
    "    X = data.drop(['fare', 'timestamp', 'route_id', 'route_id_original'], axis=1)  # Drop 'route_id' and related columns\n",
    "    \n",
    "    # If you have one-hot encoded route_id, drop those columns as well:\n",
    "    route_id_columns = [col for col in X.columns if col.startswith('route_id_')]  # Find columns starting with 'route_id_'\n",
    "    X = X.drop(columns=route_id_columns)  # Drop those columns\n",
    "    \n",
    "    y = data['fare']\n",
    "    return train_test_split(X, y, test_size=0.2, random_state=42)\n",
    "\n",
    "\n",
    "\n",
    "# Train the model\n",
    "def train_model(X_train, y_train):\n",
    "    model = RandomForestRegressor(n_estimators=100, random_state=42)\n",
    "    model.fit(X_train, y_train)\n",
    "    return model\n",
    "\n",
    "# Evaluate the model\n",
    "def evaluate_model(model, X_test, y_test):\n",
    "    y_pred = model.predict(X_test)\n",
    "    mse = mean_squared_error(y_test, y_pred)\n",
    "    r2 = r2_score(y_test, y_pred)\n",
    "    print(f\"Mean Squared Error: {mse}\")\n",
    "    print(f\"R-squared Score: {r2}\")\n",
    "\n",
    "# Main function to run the entire process\n",
    "def main():\n",
    "    # Load and preprocess data\n",
    "    data = load_and_preprocess_data('transit_data.csv')\n",
    "    \n",
    "    # Engineer features\n",
    "    data = engineer_features(data)\n",
    "    \n",
    "    # Split the data\n",
    "    X_train, X_test, y_train, y_test = split_data(data)\n",
    "    \n",
    "    # Scale the features\n",
    "    scaler = StandardScaler()\n",
    "    X_train_scaled = scaler.fit_transform(X_train)\n",
    "    X_test_scaled = scaler.transform(X_test)\n",
    "    \n",
    "    # Train the model\n",
    "    model = train_model(X_train_scaled, y_train)\n",
    "    \n",
    "    # Evaluate the model\n",
    "    evaluate_model(model, X_test_scaled, y_test)\n",
    "    \n",
    "    return model, scaler\n",
    "\n",
    "# Run the main function\n",
    "if __name__ == \"__main__\":\n",
    "    model, scaler = main()\n",
    "\n",
    "# Function to predict fare for new data\n",
    "def predict_fare(model, scaler, new_data):\n",
    "    new_data_scaled = scaler.transform(new_data)\n",
    "    return model.predict(new_data_scaled)"
   ]
  }
 ],
 "metadata": {
  "language_info": {
   "name": "python"
  }
 },
 "nbformat": 4,
 "nbformat_minor": 2
}
